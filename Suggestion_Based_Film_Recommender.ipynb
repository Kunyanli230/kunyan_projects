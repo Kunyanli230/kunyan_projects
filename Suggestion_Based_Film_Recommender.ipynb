{
  "nbformat": 4,
  "nbformat_minor": 0,
  "metadata": {
    "colab": {
      "provenance": []
    },
    "kernelspec": {
      "name": "python3",
      "display_name": "Python 3"
    },
    "language_info": {
      "name": "python"
    }
  },
  "cells": [
    {
      "cell_type": "code",
      "execution_count": null,
      "metadata": {
        "colab": {
          "base_uri": "https://localhost:8080/",
          "height": 17
        },
        "id": "WOJwHgLdVff_",
        "outputId": "594df95b-eed7-4db9-de79-a1e952e38997"
      },
      "outputs": [
        {
          "output_type": "display_data",
          "data": {
            "text/html": [
              "        <script type=\"text/javascript\">\n",
              "        window.PlotlyConfig = {MathJaxConfig: 'local'};\n",
              "        if (window.MathJax && window.MathJax.Hub && window.MathJax.Hub.Config) {window.MathJax.Hub.Config({SVG: {font: \"STIX-Web\"}});}\n",
              "        if (typeof require !== 'undefined') {\n",
              "        require.undef(\"plotly\");\n",
              "        requirejs.config({\n",
              "            paths: {\n",
              "                'plotly': ['https://cdn.plot.ly/plotly-2.24.1.min']\n",
              "            }\n",
              "        });\n",
              "        require(['plotly'], function(Plotly) {\n",
              "            window._Plotly = Plotly;\n",
              "        });\n",
              "        }\n",
              "        </script>\n",
              "        "
            ]
          },
          "metadata": {}
        }
      ],
      "source": [
        "import json\n",
        "import datetime\n",
        "import ast\n",
        "import pandas as pd\n",
        "import matplotlib.pyplot as plt\n",
        "import seaborn as sns\n",
        "import numpy as np\n",
        "from scipy import stats\n",
        "from sklearn.ensemble import GradientBoostingClassifier, GradientBoostingRegressor\n",
        "from sklearn.dummy import DummyClassifier, DummyRegressor\n",
        "from sklearn.model_selection import train_test_split\n",
        "from xgboost import XGBClassifier, XGBRegressor\n",
        "from wordcloud import WordCloud, STOPWORDS\n",
        "import plotly\n",
        "import plotly.offline as py\n",
        "py.init_notebook_mode(connected=True)\n",
        "import plotly.graph_objs as go\n",
        "import plotly.tools as tls\n",
        "import warnings\n",
        "warnings.filterwarnings('ignore')\n",
        "\n",
        "sns.set_style('whitegrid')\n",
        "sns.set(font_scale=1.25)\n",
        "pd.set_option('display.max_colwidth', 50)"
      ]
    },
    {
      "cell_type": "markdown",
      "source": [
        "# Data Preprocessing"
      ],
      "metadata": {
        "id": "I6Ca1oTFW09z"
      }
    },
    {
      "cell_type": "code",
      "source": [
        "df = pd.read_csv('movies_metadata.csv')"
      ],
      "metadata": {
        "id": "SkzXPSNlWnFn"
      },
      "execution_count": null,
      "outputs": []
    },
    {
      "cell_type": "code",
      "source": [
        "def clean_numeric(x):\n",
        "    try:\n",
        "        return float(x)\n",
        "    except:\n",
        "        return np.nan\n",
        "\n",
        "def get_month(x):\n",
        "    try:\n",
        "        return month_order[int(str(x).split('-')[1]) - 1]\n",
        "    except:\n",
        "        return np.nan\n",
        "\n",
        "def convert_int(x):\n",
        "    try:\n",
        "        return int(x)\n",
        "    except:\n",
        "        return np.nan\n",
        "df['id'] = df['id'].apply(convert_int)"
      ],
      "metadata": {
        "id": "8nYfwnFaWk65"
      },
      "execution_count": null,
      "outputs": []
    },
    {
      "cell_type": "code",
      "source": [
        "def get_director(x):\n",
        "    for i in x:\n",
        "        if i['job'] == 'Director':\n",
        "            return i['name']\n",
        "    return np.nan"
      ],
      "metadata": {
        "id": "R99Go37SWyrn"
      },
      "execution_count": null,
      "outputs": []
    },
    {
      "cell_type": "code",
      "source": [
        "df = df.drop(['imdb_id'], axis=1)\n",
        "df.drop(['original_title'], axis=1,inplace=True)\n",
        "df['revenue'] = df['revenue'].replace(0, np.nan)\n",
        "df['budget'] = pd.to_numeric(df['budget'], errors='coerce')\n",
        "df['budget'] = df['budget'].replace(0, np.nan)\n",
        "df['return'] = df['revenue'] / df['budget']\n",
        "df['release_date'] = pd.to_datetime(df['release_date'], errors='coerce')\n",
        "df['year'] = df['release_date'].dt.year\n",
        "df.drop(['adult'],axis=1,inplace=True)\n",
        "df['title'] = df['title'].astype('str')\n",
        "df['overview'] = df['overview'].astype('str')\n",
        "title_corpus = ' '.join(df['title'])\n",
        "overview_corpus = ' '.join(df['overview'])\n",
        "df['popularity'] = df['popularity'].apply(clean_numeric).astype('float')\n",
        "df['vote_count'] = df['vote_count'].apply(clean_numeric).astype('float')\n",
        "df['vote_average'] = df['vote_average'].apply(clean_numeric).astype('float')\n",
        "df['vote_average'] = df['vote_average'].replace(0, np.nan)\n",
        "month_order = ['Jan', 'Feb', 'Mar', 'Apr', 'May', 'Jun', 'Jul', 'Aug', 'Sep', 'Oct', 'Nov', 'Dec']\n",
        "day_order = ['Mon', 'Tue', 'Wed', 'Thu', 'Fri', 'Sat', 'Sun']\n",
        "df['month'] = df['release_date'].apply(get_month)\n",
        "df['day'] = df['release_date'].dt.weekday\n",
        "df['spoken_languages'] = df['spoken_languages'].fillna('[]').apply(ast.literal_eval).apply(lambda x: len(x) if isinstance(x, list) else np.nan)\n",
        "df['runtime'] = df['runtime'].astype(float)\n",
        "df['genres'] = df['genres'].fillna('[]').apply(ast.literal_eval).apply(lambda x: [i['name'] for i in x] if isinstance(x, list) else [])"
      ],
      "metadata": {
        "id": "hY0V9BeEXbtu"
      },
      "execution_count": null,
      "outputs": []
    },
    {
      "cell_type": "markdown",
      "source": [],
      "metadata": {
        "id": "NRoZ1d4tVqRO"
      }
    },
    {
      "cell_type": "code",
      "source": [
        "rgf = df[df['return'].notnull()]\n",
        "rgf.shape"
      ],
      "metadata": {
        "colab": {
          "base_uri": "https://localhost:8080/"
        },
        "id": "jbBh9EGiXUf9",
        "outputId": "be0fbd3f-1b58-4696-ce21-78f1d558363b"
      },
      "execution_count": null,
      "outputs": [
        {
          "output_type": "execute_result",
          "data": {
            "text/plain": [
              "(5381, 25)"
            ]
          },
          "metadata": {},
          "execution_count": 8
        }
      ]
    },
    {
      "cell_type": "code",
      "source": [
        "s = rgf.apply(lambda x: pd.Series(x['genres']),axis=1).stack().reset_index(level=1, drop=True)\n",
        "s.name = 'genre'"
      ],
      "metadata": {
        "id": "lfVZ4DOKXhvu"
      },
      "execution_count": null,
      "outputs": []
    },
    {
      "cell_type": "code",
      "source": [
        "gen_rgf = rgf.drop('genres', axis=1).join(s)"
      ],
      "metadata": {
        "id": "mNCyFOJPXqOp"
      },
      "execution_count": null,
      "outputs": []
    },
    {
      "cell_type": "code",
      "source": [
        "genres_train = gen_rgf['genre'].drop_duplicates()"
      ],
      "metadata": {
        "id": "XcLLD8jtXtqM"
      },
      "execution_count": null,
      "outputs": []
    },
    {
      "cell_type": "code",
      "source": [
        "rgf.describe()"
      ],
      "metadata": {
        "colab": {
          "base_uri": "https://localhost:8080/",
          "height": 300
        },
        "id": "QYKR6ZAXXw5C",
        "outputId": "42aac60e-0d6d-4f3b-f6cb-ec5fb0eb6ed8"
      },
      "execution_count": null,
      "outputs": [
        {
          "output_type": "execute_result",
          "data": {
            "text/plain": [
              "             budget             id   popularity       revenue      runtime  \\\n",
              "count  5.381000e+03    5381.000000  5381.000000  5.381000e+03  5380.000000   \n",
              "mean   3.109480e+07   60664.565508     9.774289  9.031812e+07   109.827695   \n",
              "std    4.016263e+07   95613.916930    13.818399  1.661423e+08    22.041188   \n",
              "min    1.000000e+00       5.000000     0.000001  1.000000e+00     0.000000   \n",
              "25%    5.037000e+06    8818.000000     5.443097  7.011317e+06    95.000000   \n",
              "50%    1.700000e+07   14396.000000     8.388773  2.991874e+07   106.000000   \n",
              "75%    4.000000e+07   59981.000000    11.720358  9.996575e+07   120.000000   \n",
              "max    3.800000e+08  443319.000000   547.488298  2.787965e+09   338.000000   \n",
              "\n",
              "       spoken_languages  vote_average    vote_count        return  \\\n",
              "count       5381.000000   5374.000000   5381.000000  5.381000e+03   \n",
              "mean           1.481881      6.281020    732.309422  5.565899e+03   \n",
              "std            0.927831      0.900524   1251.520813  2.168566e+05   \n",
              "min            0.000000      1.000000      0.000000  5.217391e-07   \n",
              "25%            1.000000      5.700000     77.000000  7.870443e-01   \n",
              "50%            1.000000      6.300000    276.000000  2.056683e+00   \n",
              "75%            2.000000      6.900000    798.000000  4.244444e+00   \n",
              "max            9.000000      9.100000  14075.000000  1.239638e+07   \n",
              "\n",
              "              year          day  \n",
              "count  5381.000000  5381.000000  \n",
              "mean   1999.757666     3.174131  \n",
              "std      15.919325     1.323075  \n",
              "min    1915.000000     0.000000  \n",
              "25%    1994.000000     2.000000  \n",
              "50%    2004.000000     4.000000  \n",
              "75%    2011.000000     4.000000  \n",
              "max    2017.000000     6.000000  "
            ],
            "text/html": [
              "\n",
              "  <div id=\"df-72545450-080b-4d33-bb73-778c0ef1c12c\" class=\"colab-df-container\">\n",
              "    <div>\n",
              "<style scoped>\n",
              "    .dataframe tbody tr th:only-of-type {\n",
              "        vertical-align: middle;\n",
              "    }\n",
              "\n",
              "    .dataframe tbody tr th {\n",
              "        vertical-align: top;\n",
              "    }\n",
              "\n",
              "    .dataframe thead th {\n",
              "        text-align: right;\n",
              "    }\n",
              "</style>\n",
              "<table border=\"1\" class=\"dataframe\">\n",
              "  <thead>\n",
              "    <tr style=\"text-align: right;\">\n",
              "      <th></th>\n",
              "      <th>budget</th>\n",
              "      <th>id</th>\n",
              "      <th>popularity</th>\n",
              "      <th>revenue</th>\n",
              "      <th>runtime</th>\n",
              "      <th>spoken_languages</th>\n",
              "      <th>vote_average</th>\n",
              "      <th>vote_count</th>\n",
              "      <th>return</th>\n",
              "      <th>year</th>\n",
              "      <th>day</th>\n",
              "    </tr>\n",
              "  </thead>\n",
              "  <tbody>\n",
              "    <tr>\n",
              "      <th>count</th>\n",
              "      <td>5.381000e+03</td>\n",
              "      <td>5381.000000</td>\n",
              "      <td>5381.000000</td>\n",
              "      <td>5.381000e+03</td>\n",
              "      <td>5380.000000</td>\n",
              "      <td>5381.000000</td>\n",
              "      <td>5374.000000</td>\n",
              "      <td>5381.000000</td>\n",
              "      <td>5.381000e+03</td>\n",
              "      <td>5381.000000</td>\n",
              "      <td>5381.000000</td>\n",
              "    </tr>\n",
              "    <tr>\n",
              "      <th>mean</th>\n",
              "      <td>3.109480e+07</td>\n",
              "      <td>60664.565508</td>\n",
              "      <td>9.774289</td>\n",
              "      <td>9.031812e+07</td>\n",
              "      <td>109.827695</td>\n",
              "      <td>1.481881</td>\n",
              "      <td>6.281020</td>\n",
              "      <td>732.309422</td>\n",
              "      <td>5.565899e+03</td>\n",
              "      <td>1999.757666</td>\n",
              "      <td>3.174131</td>\n",
              "    </tr>\n",
              "    <tr>\n",
              "      <th>std</th>\n",
              "      <td>4.016263e+07</td>\n",
              "      <td>95613.916930</td>\n",
              "      <td>13.818399</td>\n",
              "      <td>1.661423e+08</td>\n",
              "      <td>22.041188</td>\n",
              "      <td>0.927831</td>\n",
              "      <td>0.900524</td>\n",
              "      <td>1251.520813</td>\n",
              "      <td>2.168566e+05</td>\n",
              "      <td>15.919325</td>\n",
              "      <td>1.323075</td>\n",
              "    </tr>\n",
              "    <tr>\n",
              "      <th>min</th>\n",
              "      <td>1.000000e+00</td>\n",
              "      <td>5.000000</td>\n",
              "      <td>0.000001</td>\n",
              "      <td>1.000000e+00</td>\n",
              "      <td>0.000000</td>\n",
              "      <td>0.000000</td>\n",
              "      <td>1.000000</td>\n",
              "      <td>0.000000</td>\n",
              "      <td>5.217391e-07</td>\n",
              "      <td>1915.000000</td>\n",
              "      <td>0.000000</td>\n",
              "    </tr>\n",
              "    <tr>\n",
              "      <th>25%</th>\n",
              "      <td>5.037000e+06</td>\n",
              "      <td>8818.000000</td>\n",
              "      <td>5.443097</td>\n",
              "      <td>7.011317e+06</td>\n",
              "      <td>95.000000</td>\n",
              "      <td>1.000000</td>\n",
              "      <td>5.700000</td>\n",
              "      <td>77.000000</td>\n",
              "      <td>7.870443e-01</td>\n",
              "      <td>1994.000000</td>\n",
              "      <td>2.000000</td>\n",
              "    </tr>\n",
              "    <tr>\n",
              "      <th>50%</th>\n",
              "      <td>1.700000e+07</td>\n",
              "      <td>14396.000000</td>\n",
              "      <td>8.388773</td>\n",
              "      <td>2.991874e+07</td>\n",
              "      <td>106.000000</td>\n",
              "      <td>1.000000</td>\n",
              "      <td>6.300000</td>\n",
              "      <td>276.000000</td>\n",
              "      <td>2.056683e+00</td>\n",
              "      <td>2004.000000</td>\n",
              "      <td>4.000000</td>\n",
              "    </tr>\n",
              "    <tr>\n",
              "      <th>75%</th>\n",
              "      <td>4.000000e+07</td>\n",
              "      <td>59981.000000</td>\n",
              "      <td>11.720358</td>\n",
              "      <td>9.996575e+07</td>\n",
              "      <td>120.000000</td>\n",
              "      <td>2.000000</td>\n",
              "      <td>6.900000</td>\n",
              "      <td>798.000000</td>\n",
              "      <td>4.244444e+00</td>\n",
              "      <td>2011.000000</td>\n",
              "      <td>4.000000</td>\n",
              "    </tr>\n",
              "    <tr>\n",
              "      <th>max</th>\n",
              "      <td>3.800000e+08</td>\n",
              "      <td>443319.000000</td>\n",
              "      <td>547.488298</td>\n",
              "      <td>2.787965e+09</td>\n",
              "      <td>338.000000</td>\n",
              "      <td>9.000000</td>\n",
              "      <td>9.100000</td>\n",
              "      <td>14075.000000</td>\n",
              "      <td>1.239638e+07</td>\n",
              "      <td>2017.000000</td>\n",
              "      <td>6.000000</td>\n",
              "    </tr>\n",
              "  </tbody>\n",
              "</table>\n",
              "</div>\n",
              "    <div class=\"colab-df-buttons\">\n",
              "\n",
              "  <div class=\"colab-df-container\">\n",
              "    <button class=\"colab-df-convert\" onclick=\"convertToInteractive('df-72545450-080b-4d33-bb73-778c0ef1c12c')\"\n",
              "            title=\"Convert this dataframe to an interactive table.\"\n",
              "            style=\"display:none;\">\n",
              "\n",
              "  <svg xmlns=\"http://www.w3.org/2000/svg\" height=\"24px\" viewBox=\"0 -960 960 960\">\n",
              "    <path d=\"M120-120v-720h720v720H120Zm60-500h600v-160H180v160Zm220 220h160v-160H400v160Zm0 220h160v-160H400v160ZM180-400h160v-160H180v160Zm440 0h160v-160H620v160ZM180-180h160v-160H180v160Zm440 0h160v-160H620v160Z\"/>\n",
              "  </svg>\n",
              "    </button>\n",
              "\n",
              "  <style>\n",
              "    .colab-df-container {\n",
              "      display:flex;\n",
              "      gap: 12px;\n",
              "    }\n",
              "\n",
              "    .colab-df-convert {\n",
              "      background-color: #E8F0FE;\n",
              "      border: none;\n",
              "      border-radius: 50%;\n",
              "      cursor: pointer;\n",
              "      display: none;\n",
              "      fill: #1967D2;\n",
              "      height: 32px;\n",
              "      padding: 0 0 0 0;\n",
              "      width: 32px;\n",
              "    }\n",
              "\n",
              "    .colab-df-convert:hover {\n",
              "      background-color: #E2EBFA;\n",
              "      box-shadow: 0px 1px 2px rgba(60, 64, 67, 0.3), 0px 1px 3px 1px rgba(60, 64, 67, 0.15);\n",
              "      fill: #174EA6;\n",
              "    }\n",
              "\n",
              "    .colab-df-buttons div {\n",
              "      margin-bottom: 4px;\n",
              "    }\n",
              "\n",
              "    [theme=dark] .colab-df-convert {\n",
              "      background-color: #3B4455;\n",
              "      fill: #D2E3FC;\n",
              "    }\n",
              "\n",
              "    [theme=dark] .colab-df-convert:hover {\n",
              "      background-color: #434B5C;\n",
              "      box-shadow: 0px 1px 3px 1px rgba(0, 0, 0, 0.15);\n",
              "      filter: drop-shadow(0px 1px 2px rgba(0, 0, 0, 0.3));\n",
              "      fill: #FFFFFF;\n",
              "    }\n",
              "  </style>\n",
              "\n",
              "    <script>\n",
              "      const buttonEl =\n",
              "        document.querySelector('#df-72545450-080b-4d33-bb73-778c0ef1c12c button.colab-df-convert');\n",
              "      buttonEl.style.display =\n",
              "        google.colab.kernel.accessAllowed ? 'block' : 'none';\n",
              "\n",
              "      async function convertToInteractive(key) {\n",
              "        const element = document.querySelector('#df-72545450-080b-4d33-bb73-778c0ef1c12c');\n",
              "        const dataTable =\n",
              "          await google.colab.kernel.invokeFunction('convertToInteractive',\n",
              "                                                    [key], {});\n",
              "        if (!dataTable) return;\n",
              "\n",
              "        const docLinkHtml = 'Like what you see? Visit the ' +\n",
              "          '<a target=\"_blank\" href=https://colab.research.google.com/notebooks/data_table.ipynb>data table notebook</a>'\n",
              "          + ' to learn more about interactive tables.';\n",
              "        element.innerHTML = '';\n",
              "        dataTable['output_type'] = 'display_data';\n",
              "        await google.colab.output.renderOutput(dataTable, element);\n",
              "        const docLink = document.createElement('div');\n",
              "        docLink.innerHTML = docLinkHtml;\n",
              "        element.appendChild(docLink);\n",
              "      }\n",
              "    </script>\n",
              "  </div>\n",
              "\n",
              "\n",
              "<div id=\"df-7d6d5c5a-debd-4419-8c2b-1abe02e1e100\">\n",
              "  <button class=\"colab-df-quickchart\" onclick=\"quickchart('df-7d6d5c5a-debd-4419-8c2b-1abe02e1e100')\"\n",
              "            title=\"Suggest charts\"\n",
              "            style=\"display:none;\">\n",
              "\n",
              "<svg xmlns=\"http://www.w3.org/2000/svg\" height=\"24px\"viewBox=\"0 0 24 24\"\n",
              "     width=\"24px\">\n",
              "    <g>\n",
              "        <path d=\"M19 3H5c-1.1 0-2 .9-2 2v14c0 1.1.9 2 2 2h14c1.1 0 2-.9 2-2V5c0-1.1-.9-2-2-2zM9 17H7v-7h2v7zm4 0h-2V7h2v10zm4 0h-2v-4h2v4z\"/>\n",
              "    </g>\n",
              "</svg>\n",
              "  </button>\n",
              "\n",
              "<style>\n",
              "  .colab-df-quickchart {\n",
              "      --bg-color: #E8F0FE;\n",
              "      --fill-color: #1967D2;\n",
              "      --hover-bg-color: #E2EBFA;\n",
              "      --hover-fill-color: #174EA6;\n",
              "      --disabled-fill-color: #AAA;\n",
              "      --disabled-bg-color: #DDD;\n",
              "  }\n",
              "\n",
              "  [theme=dark] .colab-df-quickchart {\n",
              "      --bg-color: #3B4455;\n",
              "      --fill-color: #D2E3FC;\n",
              "      --hover-bg-color: #434B5C;\n",
              "      --hover-fill-color: #FFFFFF;\n",
              "      --disabled-bg-color: #3B4455;\n",
              "      --disabled-fill-color: #666;\n",
              "  }\n",
              "\n",
              "  .colab-df-quickchart {\n",
              "    background-color: var(--bg-color);\n",
              "    border: none;\n",
              "    border-radius: 50%;\n",
              "    cursor: pointer;\n",
              "    display: none;\n",
              "    fill: var(--fill-color);\n",
              "    height: 32px;\n",
              "    padding: 0;\n",
              "    width: 32px;\n",
              "  }\n",
              "\n",
              "  .colab-df-quickchart:hover {\n",
              "    background-color: var(--hover-bg-color);\n",
              "    box-shadow: 0 1px 2px rgba(60, 64, 67, 0.3), 0 1px 3px 1px rgba(60, 64, 67, 0.15);\n",
              "    fill: var(--button-hover-fill-color);\n",
              "  }\n",
              "\n",
              "  .colab-df-quickchart-complete:disabled,\n",
              "  .colab-df-quickchart-complete:disabled:hover {\n",
              "    background-color: var(--disabled-bg-color);\n",
              "    fill: var(--disabled-fill-color);\n",
              "    box-shadow: none;\n",
              "  }\n",
              "\n",
              "  .colab-df-spinner {\n",
              "    border: 2px solid var(--fill-color);\n",
              "    border-color: transparent;\n",
              "    border-bottom-color: var(--fill-color);\n",
              "    animation:\n",
              "      spin 1s steps(1) infinite;\n",
              "  }\n",
              "\n",
              "  @keyframes spin {\n",
              "    0% {\n",
              "      border-color: transparent;\n",
              "      border-bottom-color: var(--fill-color);\n",
              "      border-left-color: var(--fill-color);\n",
              "    }\n",
              "    20% {\n",
              "      border-color: transparent;\n",
              "      border-left-color: var(--fill-color);\n",
              "      border-top-color: var(--fill-color);\n",
              "    }\n",
              "    30% {\n",
              "      border-color: transparent;\n",
              "      border-left-color: var(--fill-color);\n",
              "      border-top-color: var(--fill-color);\n",
              "      border-right-color: var(--fill-color);\n",
              "    }\n",
              "    40% {\n",
              "      border-color: transparent;\n",
              "      border-right-color: var(--fill-color);\n",
              "      border-top-color: var(--fill-color);\n",
              "    }\n",
              "    60% {\n",
              "      border-color: transparent;\n",
              "      border-right-color: var(--fill-color);\n",
              "    }\n",
              "    80% {\n",
              "      border-color: transparent;\n",
              "      border-right-color: var(--fill-color);\n",
              "      border-bottom-color: var(--fill-color);\n",
              "    }\n",
              "    90% {\n",
              "      border-color: transparent;\n",
              "      border-bottom-color: var(--fill-color);\n",
              "    }\n",
              "  }\n",
              "</style>\n",
              "\n",
              "  <script>\n",
              "    async function quickchart(key) {\n",
              "      const quickchartButtonEl =\n",
              "        document.querySelector('#' + key + ' button');\n",
              "      quickchartButtonEl.disabled = true;  // To prevent multiple clicks.\n",
              "      quickchartButtonEl.classList.add('colab-df-spinner');\n",
              "      try {\n",
              "        const charts = await google.colab.kernel.invokeFunction(\n",
              "            'suggestCharts', [key], {});\n",
              "      } catch (error) {\n",
              "        console.error('Error during call to suggestCharts:', error);\n",
              "      }\n",
              "      quickchartButtonEl.classList.remove('colab-df-spinner');\n",
              "      quickchartButtonEl.classList.add('colab-df-quickchart-complete');\n",
              "    }\n",
              "    (() => {\n",
              "      let quickchartButtonEl =\n",
              "        document.querySelector('#df-7d6d5c5a-debd-4419-8c2b-1abe02e1e100 button');\n",
              "      quickchartButtonEl.style.display =\n",
              "        google.colab.kernel.accessAllowed ? 'block' : 'none';\n",
              "    })();\n",
              "  </script>\n",
              "</div>\n",
              "    </div>\n",
              "  </div>\n"
            ]
          },
          "metadata": {},
          "execution_count": 13
        }
      ]
    },
    {
      "cell_type": "code",
      "source": [
        "rgf.loc[rgf[rgf['belongs_to_collection'].isnull()].index,\n",
        "        'belongs_to_collection'] = np.nan\n",
        "rgf['belongs_to_collection'] = np.where(rgf['belongs_to_collection'].isnull(), 0, 1)\n",
        "rgf['belongs_to_collection']"
      ],
      "metadata": {
        "colab": {
          "base_uri": "https://localhost:8080/"
        },
        "id": "z1H_OlnsX19i",
        "outputId": "99c87eee-297e-4a7e-b0db-5962216d9f32"
      },
      "execution_count": null,
      "outputs": [
        {
          "output_type": "execute_result",
          "data": {
            "text/plain": [
              "0        1\n",
              "1        1\n",
              "3        1\n",
              "5        1\n",
              "8        1\n",
              "        ..\n",
              "45250    1\n",
              "45399    1\n",
              "45409    1\n",
              "45412    1\n",
              "45422    1\n",
              "Name: belongs_to_collection, Length: 5381, dtype: int64"
            ]
          },
          "metadata": {},
          "execution_count": 17
        }
      ]
    },
    {
      "cell_type": "code",
      "source": [
        "rgf['belongs_to_collection'].value_counts()"
      ],
      "metadata": {
        "colab": {
          "base_uri": "https://localhost:8080/"
        },
        "id": "3w-mi2HOX7Ww",
        "outputId": "74a08829-c6d3-4fa1-9c64-b4729b44e379"
      },
      "execution_count": null,
      "outputs": [
        {
          "output_type": "execute_result",
          "data": {
            "text/plain": [
              "1    5381\n",
              "Name: belongs_to_collection, dtype: int64"
            ]
          },
          "metadata": {},
          "execution_count": 18
        }
      ]
    },
    {
      "cell_type": "code",
      "source": [
        "for genre in genres_train:\n",
        "  rgf['is_' + str(genre)] = rgf['genres'].apply(lambda x: 1 if genre in x else 0)\n",
        "\n",
        "rgf['genres_count'] = rgf['genres'].apply(lambda x: len(x))\n",
        "rgf['is_english'] = rgf['original_language'].apply(lambda x: 1 if x=='en' else 0)\n",
        "rgf.columns"
      ],
      "metadata": {
        "colab": {
          "base_uri": "https://localhost:8080/"
        },
        "id": "jPam5ysgajNX",
        "outputId": "df7537c7-c797-4f4c-efc9-b1f217544f40"
      },
      "execution_count": null,
      "outputs": [
        {
          "output_type": "execute_result",
          "data": {
            "text/plain": [
              "Index(['belongs_to_collection', 'budget', 'genres', 'homepage', 'id',\n",
              "       'original_language', 'overview', 'popularity', 'poster_path',\n",
              "       'production_companies', 'production_countries', 'release_date',\n",
              "       'revenue', 'runtime', 'spoken_languages', 'status', 'tagline', 'title',\n",
              "       'video', 'vote_average', 'vote_count', 'return', 'year', 'month', 'day',\n",
              "       'is_Friday', 'is_Holiday', 'is_Animation', 'is_Comedy', 'is_Family',\n",
              "       'is_Adventure', 'is_Fantasy', 'is_Drama', 'is_Romance', 'is_Action',\n",
              "       'is_Crime', 'is_Thriller', 'is_History', 'is_Science Fiction',\n",
              "       'is_Mystery', 'is_Horror', 'is_War', 'is_Foreign', 'is_Documentary',\n",
              "       'is_Western', 'is_Music', 'is_nan', 'is_TV Movie', 'genres_count',\n",
              "       'is_english'],\n",
              "      dtype='object')"
            ]
          },
          "metadata": {},
          "execution_count": 30
        }
      ]
    },
    {
      "cell_type": "markdown",
      "source": [
        "need to process data further"
      ],
      "metadata": {
        "id": "_HRQP5zBYVAW"
      }
    },
    {
      "cell_type": "code",
      "source": [
        "rgf['is_Friday'] = rgf['day'].apply(lambda x: 1 if x==5 else 0)\n",
        "rgf['is_Holiday'] = rgf['month'].apply(lambda x: 1 if x in ['Apr', 'May', 'Dec'] else 0)\n",
        "rgf['runtime'] = rgf['runtime'].fillna(df['runtime'].mean())\n",
        "rgf['vote_average'] = rgf['vote_average'].fillna(rgf['vote_average'].mean())\n",
        "rgf.columns"
      ],
      "metadata": {
        "colab": {
          "base_uri": "https://localhost:8080/"
        },
        "id": "2mzXWlCPYEUn",
        "outputId": "7959bf39-2299-4f73-c628-47f838971b40"
      },
      "execution_count": null,
      "outputs": [
        {
          "output_type": "execute_result",
          "data": {
            "text/plain": [
              "Index(['belongs_to_collection', 'budget', 'genres', 'homepage', 'id',\n",
              "       'original_language', 'overview', 'popularity', 'poster_path',\n",
              "       'production_companies', 'production_countries', 'release_date',\n",
              "       'revenue', 'runtime', 'spoken_languages', 'status', 'tagline', 'title',\n",
              "       'video', 'vote_average', 'vote_count', 'return', 'year', 'month', 'day',\n",
              "       'is_Friday', 'is_Holiday', 'is_Animation', 'is_Comedy', 'is_Family',\n",
              "       'is_Adventure', 'is_Fantasy', 'is_Drama', 'is_Romance', 'is_Action',\n",
              "       'is_Crime', 'is_Thriller', 'is_History', 'is_Science Fiction',\n",
              "       'is_Mystery', 'is_Horror', 'is_War', 'is_Foreign', 'is_Documentary',\n",
              "       'is_Western', 'is_Music', 'is_nan', 'is_TV Movie', 'genres_count',\n",
              "       'is_english'],\n",
              "      dtype='object')"
            ]
          },
          "metadata": {},
          "execution_count": 31
        }
      ]
    },
    {
      "cell_type": "code",
      "source": [
        "featureList = [\n",
        "    'budget',\n",
        "    'popularity',\n",
        "    'runtime',\n",
        "    'vote_average',\n",
        "    'vote_count',\n",
        "    'cast_size',\n",
        "    'crew_size',\n",
        "    'belongs_to_collection',\n",
        "    'is_Animation', 'is_Comedy', 'is_Family',\n",
        "       'is_Adventure', 'is_Fantasy', 'is_Drama', 'is_Romance', 'is_Action',\n",
        "       'is_Crime', 'is_Thriller', 'is_History', 'is_Science Fiction',\n",
        "       'is_Horror',  'is_Western',\n",
        "       'is_Friday', 'is_Holiday', 'revenue'\n",
        "]\n"
      ],
      "metadata": {
        "id": "4oI8EPsSYoXh"
      },
      "execution_count": null,
      "outputs": []
    },
    {
      "cell_type": "markdown",
      "source": [
        "Start Classification"
      ],
      "metadata": {
        "id": "6AKuc1iFY8xl"
      }
    },
    {
      "cell_type": "code",
      "source": [
        "X, y = rgf.drop('revenue', axis=1), rgf['revenue']\n",
        "train_X, test_X, train_y, test_y = train_test_split(X, y, train_size=0.75, test_size=0.25)"
      ],
      "metadata": {
        "id": "Wyy64FiNYviF"
      },
      "execution_count": null,
      "outputs": []
    },
    {
      "cell_type": "code",
      "source": [
        "reg = GradientBoostingRegressor()"
      ],
      "metadata": {
        "id": "7ukPPfPyZ6B5"
      },
      "execution_count": null,
      "outputs": []
    },
    {
      "cell_type": "code",
      "source": [
        "cls = df[df['return'].notnull()]\n",
        "cls.shape"
      ],
      "metadata": {
        "colab": {
          "base_uri": "https://localhost:8080/"
        },
        "id": "JiQvxLgrb8CD",
        "outputId": "fdb0adac-3e67-479d-c43b-aaaa8d11d60e"
      },
      "execution_count": null,
      "outputs": [
        {
          "output_type": "execute_result",
          "data": {
            "text/plain": [
              "(5381, 25)"
            ]
          },
          "metadata": {},
          "execution_count": 43
        }
      ]
    },
    {
      "cell_type": "code",
      "source": [
        "cls['success'] = cls['return'].apply(lambda x: 1 if x >=1.2 else 0)\n",
        "cls['belongs_to_collection'] = rgf['belongs_to_collection']"
      ],
      "metadata": {
        "id": "kRPmrcUVczwi"
      },
      "execution_count": null,
      "outputs": []
    },
    {
      "cell_type": "code",
      "source": [
        "sns.set(style=\"whitegrid\")\n",
        "g = sns.PairGrid(data=cls, x_vars=['belongs_to_collection'], y_vars='success')\n",
        "g.map(sns.pointplot, color=sns.xkcd_rgb[\"plum\"])\n",
        "g.set(ylim=(0, 1))"
      ],
      "metadata": {
        "colab": {
          "base_uri": "https://localhost:8080/",
          "height": 283
        },
        "id": "m7Tf6bkWdSR2",
        "outputId": "ef77c34d-1694-4983-9548-9ac8d3cad24c"
      },
      "execution_count": null,
      "outputs": [
        {
          "output_type": "execute_result",
          "data": {
            "text/plain": [
              "<seaborn.axisgrid.PairGrid at 0x7da16e3f4ee0>"
            ]
          },
          "metadata": {},
          "execution_count": 50
        },
        {
          "output_type": "display_data",
          "data": {
            "text/plain": [
              "<Figure size 250x250 with 1 Axes>"
            ],
            "image/png": "[encoded data removed]"
          },
          "metadata": {}
        }
      ]
    },
    {
      "cell_type": "code",
      "source": [
        "s = cls.apply(lambda x: pd.Series(x['genres']),axis=1).stack().reset_index(level=1, drop=True)\n",
        "s.name = 'genre'\n",
        "gen_cls = cls.drop('genres', axis=1).join(s)"
      ],
      "metadata": {
        "id": "olxGvnajdSb6"
      },
      "execution_count": null,
      "outputs": []
    },
    {
      "cell_type": "code",
      "source": [
        "ctab = pd.crosstab(\n",
        "    [\n",
        "        gen_cls['genre']\n",
        "    ],\n",
        "    gen_cls['success'],\n",
        "    dropna=False\n",
        ").apply(lambda x: x/x.sum(), axis=1)"
      ],
      "metadata": {
        "id": "ibfn8lhfd5hj"
      },
      "execution_count": null,
      "outputs": []
    },
    {
      "cell_type": "code",
      "source": [
        "for genre in genres_train:\n",
        "    cls['is_' + str(genre)] = cls['genres'].apply(lambda x: 1 if genre in x else 0)\n",
        "cls['genres'] = cls['genres'].apply(lambda x: len(x))"
      ],
      "metadata": {
        "id": "szZuDEtCd81H"
      },
      "execution_count": null,
      "outputs": []
    },
    {
      "cell_type": "code",
      "source": [
        "cls['is_english'] = rgf['is_english']\n",
        "cls['is_Friday'] = rgf['is_Friday']\n",
        "cls[['runtime', 'vote_average', 'is_Holiday']] = rgf[['runtime', 'vote_average', 'is_Holiday']]"
      ],
      "metadata": {
        "id": "_4WYdgsUeARK"
      },
      "execution_count": null,
      "outputs": []
    },
    {
      "cell_type": "code",
      "source": [
        "featureList = featureList = [\n",
        "    'budget',\n",
        "    'popularity',\n",
        "    'runtime',\n",
        "    'vote_average',\n",
        "    'vote_count',\n",
        "    'cast_size',\n",
        "    'crew_size',\n",
        "    'belongs_to_collection',\n",
        "    'is_Animation', 'is_Comedy', 'is_Family',\n",
        "       'is_Adventure', 'is_Fantasy', 'is_Drama', 'is_Romance', 'is_Action',\n",
        "       'is_Crime', 'is_Thriller', 'is_History', 'is_Science Fiction',\n",
        "       'is_Mystery', 'is_Horror', 'is_War', 'is_Foreign', 'is_Documentary',\n",
        "       'is_Western', 'is_Music', 'is_nan', 'is_TV Movie', 'genres_count',\n",
        "       'is_english', 'is_Friday', 'is_Holiday', 'success'\n",
        "]"
      ],
      "metadata": {
        "id": "D0QWcav_eJhZ"
      },
      "execution_count": null,
      "outputs": []
    },
    {
      "cell_type": "code",
      "source": [
        "X, y = cls[featureList].drop('success', axis=1), cls['success']"
      ],
      "metadata": {
        "id": "_467-1_0eL-b"
      },
      "execution_count": null,
      "outputs": []
    },
    {
      "cell_type": "code",
      "source": [
        "train_X, test_X, train_y, test_y = train_test_split(X, y, train_size=0.75, test_size=0.25, stratify=y)"
      ],
      "metadata": {
        "id": "yrITh-KHeXWv"
      },
      "execution_count": null,
      "outputs": []
    },
    {
      "cell_type": "code",
      "source": [
        "clf = GradientBoostingClassifier()\n",
        "clf.fit(train_X, train_y)"
      ],
      "metadata": {
        "id": "wVEYlUiSeZPB"
      },
      "execution_count": null,
      "outputs": []
    },
    {
      "cell_type": "markdown",
      "source": [
        "Result"
      ],
      "metadata": {
        "id": "wq5sIXa5erzU"
      }
    },
    {
      "cell_type": "code",
      "source": [
        "plt.figure(figsize=(10,12))\n",
        "sns.barplot(x=clf.feature_importances_, y=X.columns)"
      ],
      "metadata": {
        "id": "v9qyCUDcedMS"
      },
      "execution_count": null,
      "outputs": []
    },
    {
      "cell_type": "code",
      "source": [
        "featureImp = pd.DataFrame(\n",
        "    {\n",
        "        'col': X.columns,\n",
        "        'imp': reg.feature_importances_\n",
        "    }\n",
        ")\n",
        "featureImp.sort_values('imp', ascending=False)"
      ],
      "metadata": {
        "id": "kJYIWQUQegbh"
      },
      "execution_count": null,
      "outputs": []
    },
    {
      "cell_type": "code",
      "source": [
        "!pip install shap"
      ],
      "metadata": {
        "colab": {
          "base_uri": "https://localhost:8080/"
        },
        "id": "y_qYhZuceu_7",
        "outputId": "eefedd6a-eadd-44dc-ea6a-7214c92ab0c8"
      },
      "execution_count": null,
      "outputs": [
        {
          "output_type": "stream",
          "name": "stdout",
          "text": [
            "Collecting shap\n",
            "  Downloading shap-0.44.0-cp310-cp310-manylinux_2_12_x86_64.manylinux2010_x86_64.manylinux_2_17_x86_64.manylinux2014_x86_64.whl (533 kB)\n",
            "\u001b[?25l     \u001b[90m━━━━━━━━━━━━━━━━━━━━━━━━━━━━━━━━━━━━━━━━\u001b[0m \u001b[32m0.0/533.5 kB\u001b[0m \u001b[31m?\u001b[0m eta \u001b[36m-:--:--\u001b[0m\r\u001b[2K     \u001b[91m━━━━━━\u001b[0m\u001b[91m╸\u001b[0m\u001b[90m━━━━━━━━━━━━━━━━━━━━━━━━━━━━━━━━━\u001b[0m \u001b[32m92.2/533.5 kB\u001b[0m \u001b[31m2.5 MB/s\u001b[0m eta \u001b[36m0:00:01\u001b[0m\r\u001b[2K     \u001b[91m━━━━━━━━━━━━━━━━━━━━━━━━━━━━━━━━━━━━━━━\u001b[0m\u001b[91m╸\u001b[0m \u001b[32m532.5/533.5 kB\u001b[0m \u001b[31m7.7 MB/s\u001b[0m eta \u001b[36m0:00:01\u001b[0m\r\u001b[2K     \u001b[90m━━━━━━━━━━━━━━━━━━━━━━━━━━━━━━━━━━━━━━━━\u001b[0m \u001b[32m533.5/533.5 kB\u001b[0m \u001b[31m6.5 MB/s\u001b[0m eta \u001b[36m0:00:00\u001b[0m\n",
            "\u001b[?25hRequirement already satisfied: numpy in /usr/local/lib/python3.10/dist-packages (from shap) (1.23.5)\n",
            "Requirement already satisfied: scipy in /usr/local/lib/python3.10/dist-packages (from shap) (1.11.4)\n",
            "Requirement already satisfied: scikit-learn in /usr/local/lib/python3.10/dist-packages (from shap) (1.2.2)\n",
            "Requirement already satisfied: pandas in /usr/local/lib/python3.10/dist-packages (from shap) (1.5.3)\n",
            "Requirement already satisfied: tqdm>=4.27.0 in /usr/local/lib/python3.10/dist-packages (from shap) (4.66.1)\n",
            "Requirement already satisfied: packaging>20.9 in /usr/local/lib/python3.10/dist-packages (from shap) (23.2)\n",
            "Collecting slicer==0.0.7 (from shap)\n",
            "  Downloading slicer-0.0.7-py3-none-any.whl (14 kB)\n",
            "Requirement already satisfied: numba in /usr/local/lib/python3.10/dist-packages (from shap) (0.58.1)\n",
            "Requirement already satisfied: cloudpickle in /usr/local/lib/python3.10/dist-packages (from shap) (2.2.1)\n",
            "Requirement already satisfied: llvmlite<0.42,>=0.41.0dev0 in /usr/local/lib/python3.10/dist-packages (from numba->shap) (0.41.1)\n",
            "Requirement already satisfied: python-dateutil>=2.8.1 in /usr/local/lib/python3.10/dist-packages (from pandas->shap) (2.8.2)\n",
            "Requirement already satisfied: pytz>=2020.1 in /usr/local/lib/python3.10/dist-packages (from pandas->shap) (2023.3.post1)\n",
            "Requirement already satisfied: joblib>=1.1.1 in /usr/local/lib/python3.10/dist-packages (from scikit-learn->shap) (1.3.2)\n",
            "Requirement already satisfied: threadpoolctl>=2.0.0 in /usr/local/lib/python3.10/dist-packages (from scikit-learn->shap) (3.2.0)\n",
            "Requirement already satisfied: six>=1.5 in /usr/local/lib/python3.10/dist-packages (from python-dateutil>=2.8.1->pandas->shap) (1.16.0)\n",
            "Installing collected packages: slicer, shap\n",
            "Successfully installed shap-0.44.0 slicer-0.0.7\n"
          ]
        }
      ]
    },
    {
      "cell_type": "code",
      "source": [
        "import shap"
      ],
      "metadata": {
        "id": "faiAPZ5Cewjc"
      },
      "execution_count": null,
      "outputs": []
    },
    {
      "cell_type": "code",
      "source": [
        "explainer = shap.Explainer(clf2.predict, test_X)\n",
        "shap_values= explainer(test_X)\n",
        "shap.plots.bar(shap_values)"
      ],
      "metadata": {
        "id": "WgjmTQHye09P"
      },
      "execution_count": null,
      "outputs": []
    },
    {
      "cell_type": "markdown",
      "source": [
        "# Suggestion Based Recommender"
      ],
      "metadata": {
        "id": "0G4Pd5kLlCLh"
      }
    },
    {
      "cell_type": "code",
      "source": [
        "df = df[df['vote_count'] >= 50]"
      ],
      "metadata": {
        "id": "ypfGaJxRlJgU"
      },
      "execution_count": null,
      "outputs": []
    },
    {
      "cell_type": "code",
      "source": [
        "movies_md = df[['id', 'original_title', 'overview', 'genres']]\n",
        "movies_md['title'] = movies_md['original_title'].copy()\n",
        "movies_md.reset_index(inplace=True, drop=True)\n",
        "movies_md.head()"
      ],
      "metadata": {
        "id": "2i0dgkpHlKhI"
      },
      "execution_count": null,
      "outputs": []
    },
    {
      "cell_type": "code",
      "source": [
        "movies_md = movies_md[movies_md['id'].str.isnumeric()]\n",
        "movies_md['id'] = movies_md['id'].astype(int)\n",
        "df = pd.merge(movies_md,\n",
        "         keywords_df,\n",
        "         on = 'id',\n",
        "         how = 'left')\n",
        "credits_df = pd.read_csv('./credits.csv')"
      ],
      "metadata": {
        "id": "MloqQrfelL95"
      },
      "execution_count": null,
      "outputs": []
    },
    {
      "cell_type": "code",
      "source": [
        "df = pd.merge(df,\n",
        "              credits_df,\n",
        "              on = 'id',\n",
        "              how='left')\n",
        "df.reset_index(inplace=True, drop=True)"
      ],
      "metadata": {
        "id": "sXhsVAvclTqF"
      },
      "execution_count": null,
      "outputs": []
    },
    {
      "cell_type": "code",
      "source": [
        "# Fetchin the genre list from the column\n",
        "df['genres'] = df['genres'].apply(lambda x: [i['name'] for i in eval(x)])\n",
        "\n",
        "# Replaces spaces in between genre(ex - sci fi to scifi) and make it a string\n",
        "df['genres'] = df['genres'].apply(lambda x: ' '.join([i.replace(\" \",\"\") for i in x]))\n"
      ],
      "metadata": {
        "id": "mFsxIrJglVHd"
      },
      "execution_count": null,
      "outputs": []
    },
    {
      "cell_type": "code",
      "source": [
        "# Filling the numm values as []\n",
        "df['keywords'].fillna('[]', inplace=True)\n",
        "# Let's clean the keywords dataframe to extract the keywords\n",
        "# Fetchin the keyword list from the column\n",
        "df['keywords'] = df['keywords'].apply(lambda x: [i['name'] for i in eval(x)])\n",
        "\n",
        "# Remove the expty spaces and join all the keyword wwwith spaces\n",
        "df['keywords'] = df['keywords'].apply(lambda x: ' '.join([i.replace(\" \",'') for i in x]))"
      ],
      "metadata": {
        "id": "Yb92P-kclYo1"
      },
      "execution_count": null,
      "outputs": []
    },
    {
      "cell_type": "code",
      "source": [
        "# Filling the numm values as []\n",
        "df['cast'].fillna('[]', inplace=True)\n",
        "# Let's clean the cast dataframe to extract the name of aactors from cast column\n",
        "# Fetchin the cast list from the column\n",
        "df['cast'] = df['cast'].apply(lambda x: [i['name'] for i in eval(x)])\n",
        "\n",
        "# Remove the expty spaces and join all the cast with spaces\n",
        "df['cast'] = df['cast'].apply(lambda x: ' '.join([i.replace(\" \",'') for i in x]))"
      ],
      "metadata": {
        "id": "UJINrmg6lZ0t"
      },
      "execution_count": null,
      "outputs": []
    },
    {
      "cell_type": "code",
      "source": [
        "df['tags'] = df['overview'] + ' ' + df['genres'] + ' ' + df['original_title'] + ' ' + df['keywords'] + ' ' + df['cast']\n",
        "df.drop(columns=['genres','overview', 'original_title', 'cast'], inplace=True)\n",
        "df.drop(columns=['crew'], inplace=True)\n",
        "df.drop(df[df['tags'].isnull()].index, inplace=True)\n",
        "df.drop_duplicates(inplace=True)"
      ],
      "metadata": {
        "id": "_6ym0UxqldBi"
      },
      "execution_count": null,
      "outputs": []
    },
    {
      "cell_type": "markdown",
      "source": [
        "Convert the contents to vectors"
      ],
      "metadata": {
        "id": "5uNCInejlmV7"
      }
    },
    {
      "cell_type": "code",
      "source": [
        "from sklearn.feature_extraction.text import TfidfVectorizer\n",
        "# Initialize a tfidf object\n",
        "tfidf = TfidfVectorizer(max_features=5000)\n",
        "\n",
        "# Transform the data\n",
        "vectorized_data = tfidf.fit_transform(df['tags'].values)\n",
        "\n",
        "vectorized_data"
      ],
      "metadata": {
        "id": "Fnts4mrolpUi"
      },
      "execution_count": null,
      "outputs": []
    },
    {
      "cell_type": "markdown",
      "source": [
        "Dimension Reduction"
      ],
      "metadata": {
        "id": "3_rvz4OvlvoW"
      }
    },
    {
      "cell_type": "code",
      "source": [
        "from sklearn.decomposition import TruncatedSVD\n",
        "\n",
        "# Initialize a PCA object\n",
        "svd = TruncatedSVD(n_components=3000)\n",
        "\n",
        "# Fit transform the data\n",
        "reduced_data = svd.fit_transform(vectorized_data)\n",
        "\n",
        "# Print the shape\n",
        "reduced_data.shape\n",
        "svd.explained_variance_ratio_.cumsum()"
      ],
      "metadata": {
        "id": "aiwooMyzlt7-"
      },
      "execution_count": null,
      "outputs": []
    },
    {
      "cell_type": "markdown",
      "source": [
        "Similarity Metric"
      ],
      "metadata": {
        "id": "sa-dzJDFlzi_"
      }
    },
    {
      "cell_type": "code",
      "source": [
        "from sklearn.metrics.pairwise import cosine_similarity\n",
        "similarity = cosine_similarity(reduced_data)"
      ],
      "metadata": {
        "id": "RXGwUYZJl4jm"
      },
      "execution_count": null,
      "outputs": []
    },
    {
      "cell_type": "markdown",
      "source": [
        "Make Recommendations for a given movie"
      ],
      "metadata": {
        "id": "ilAvP0opl9Jz"
      }
    },
    {
      "cell_type": "code",
      "source": [
        "def recommendations(movie_title):\n",
        "  id_of_movie = df[df['title'] == movie_title].index[0]\n",
        "  distances = similarity[id_of_movie]\n",
        "  movie_list = sorted(\n",
        "      list(\n",
        "          enumerate(distances)\n",
        "      ),\n",
        "      reverse=True,\n",
        "      key = lambda x: x[1]\n",
        "  )[1:10]\n",
        "\n",
        "  for i in movie_list:\n",
        "    print(df.iloc[i[0]].title)"
      ],
      "metadata": {
        "id": "ELeBEh1Sl6sC"
      },
      "execution_count": null,
      "outputs": []
    },
    {
      "cell_type": "code",
      "source": [
        "recommendations('The Matrix')"
      ],
      "metadata": {
        "id": "lO3KovITmBbz"
      },
      "execution_count": null,
      "outputs": []
    },
    {
      "cell_type": "markdown",
      "source": [
        "Visualize using TSNE"
      ],
      "metadata": {
        "id": "xq2NKoSomEaC"
      }
    },
    {
      "cell_type": "code",
      "source": [
        "from sklearn.manifold import TSNE"
      ],
      "metadata": {
        "id": "J4tnWHFXmFHC"
      },
      "execution_count": null,
      "outputs": []
    },
    {
      "cell_type": "code",
      "source": [
        "# Initialize TSNE object\n",
        "tsne = TSNE(n_components=2, init='random')\n",
        "\n",
        "tsne_data = tsne.fit_transform(vectorized_data)\n",
        "\n",
        "tsne_data = pd.DataFrame(tsne_data,\n",
        "                         columns=['x', 'y'])\n",
        "\n",
        "tsne_data['title'] = df['title'].copy()"
      ],
      "metadata": {
        "id": "fCpic-dlmHC6"
      },
      "execution_count": null,
      "outputs": []
    },
    {
      "cell_type": "code",
      "source": [
        "data = go.Scatter(\n",
        "    x=tsne_data['x'],\n",
        "    y=tsne_data['y'],\n",
        "    text=tsne_data['title'],\n",
        "    mode='markers+text'\n",
        ")\n",
        "\n",
        "fig = go.Figure(data=data)\n",
        "fig.show()"
      ],
      "metadata": {
        "id": "VSnqCKBnmIuW"
      },
      "execution_count": null,
      "outputs": []
    }
  ]
}